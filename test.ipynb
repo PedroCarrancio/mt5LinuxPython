{
 "cells": [
  {
   "cell_type": "code",
   "execution_count": null,
   "metadata": {},
   "outputs": [
    {
     "ename": "ConnectionRefusedError",
     "evalue": "[Errno 111] Connection refused",
     "output_type": "error",
     "traceback": [
      "\u001b[0;31m---------------------------------------------------------------------------\u001b[0m",
      "\u001b[0;31mConnectionRefusedError\u001b[0m                    Traceback (most recent call last)",
      "Cell \u001b[0;32mIn[2], line 7\u001b[0m\n\u001b[1;32m      3\u001b[0m \u001b[38;5;28;01mfrom\u001b[39;00m\u001b[38;5;250m \u001b[39m\u001b[38;5;21;01mdatetime\u001b[39;00m\u001b[38;5;250m \u001b[39m\u001b[38;5;28;01mimport\u001b[39;00m datetime, timedelta, time\n\u001b[1;32m      4\u001b[0m \u001b[38;5;66;03m#from IPython.display import display\u001b[39;00m\n\u001b[1;32m      5\u001b[0m \u001b[38;5;66;03m#from atj_algotrading.backtester import Backtester, get_ohlc_history\u001b[39;00m\n\u001b[1;32m      6\u001b[0m \u001b[38;5;66;03m# connecto to the server\u001b[39;00m\n\u001b[0;32m----> 7\u001b[0m mt5 \u001b[38;5;241m=\u001b[39m \u001b[43mMetaTrader5\u001b[49m\u001b[43m(\u001b[49m\n\u001b[1;32m      8\u001b[0m \u001b[43m     \u001b[49m\u001b[43mhost\u001b[49m\u001b[43m \u001b[49m\u001b[38;5;241;43m=\u001b[39;49m\u001b[43m \u001b[49m\u001b[38;5;124;43m'\u001b[39;49m\u001b[38;5;124;43mlocalhost\u001b[39;49m\u001b[38;5;124;43m'\u001b[39;49m\u001b[43m \u001b[49m\n\u001b[1;32m      9\u001b[0m \u001b[43m     \u001b[49m\u001b[43m,\u001b[49m\u001b[43mport\u001b[49m\u001b[43m \u001b[49m\u001b[38;5;241;43m=\u001b[39;49m\u001b[43m \u001b[49m\u001b[38;5;241;43m3000\u001b[39;49m\u001b[43m   \u001b[49m\n\u001b[1;32m     10\u001b[0m \u001b[43m)\u001b[49m \n\u001b[1;32m     11\u001b[0m \u001b[38;5;66;03m# use as you learned from: https://www.mql5.com/en/docs/integration/python_metatrader5/\u001b[39;00m\n\u001b[1;32m     13\u001b[0m \u001b[38;5;28;01mif\u001b[39;00m \u001b[38;5;129;01mnot\u001b[39;00m mt5\u001b[38;5;241m.\u001b[39minitialize(\u001b[38;5;124m\"\u001b[39m\u001b[38;5;124m/root/.mt5/drive_c/Program Files/MetaTrader 5/terminal64.exe\u001b[39m\u001b[38;5;124m\"\u001b[39m,login\u001b[38;5;241m=\u001b[39m\u001b[38;5;241m83040089\u001b[39m,password\u001b[38;5;241m=\u001b[39m\u001b[38;5;124m'\u001b[39m\u001b[38;5;124m061217_Btz\u001b[39m\u001b[38;5;124m'\u001b[39m,server\u001b[38;5;241m=\u001b[39m\u001b[38;5;124m'\u001b[39m\u001b[38;5;124mExness-MT5Trial12\u001b[39m\u001b[38;5;124m'\u001b[39m):\n",
      "File \u001b[0;32m/usr/local/lib/python3.10/site-packages/mt5linux/__init__.py:363\u001b[0m, in \u001b[0;36mMetaTrader5.__init__\u001b[0;34m(self, host, port)\u001b[0m\n\u001b[1;32m    356\u001b[0m     \u001b[38;5;28;01mdef\u001b[39;00m\u001b[38;5;250m \u001b[39m\u001b[38;5;21m__init__\u001b[39m(\u001b[38;5;28mself\u001b[39m,host\u001b[38;5;241m=\u001b[39m\u001b[38;5;124m'\u001b[39m\u001b[38;5;124mlocalhost\u001b[39m\u001b[38;5;124m'\u001b[39m,port\u001b[38;5;241m=\u001b[39m\u001b[38;5;241m18812\u001b[39m):\n\u001b[1;32m    357\u001b[0m \u001b[38;5;250m        \u001b[39m\u001b[38;5;124;03m'''\u001b[39;00m\n\u001b[1;32m    358\u001b[0m \u001b[38;5;124;03mhost: str\u001b[39;00m\n\u001b[1;32m    359\u001b[0m \u001b[38;5;124;03m    default = localhost\u001b[39;00m\n\u001b[1;32m    360\u001b[0m \u001b[38;5;124;03mport: int\u001b[39;00m\n\u001b[1;32m    361\u001b[0m \u001b[38;5;124;03m    default = 18812\u001b[39;00m\n\u001b[1;32m    362\u001b[0m \u001b[38;5;124;03m        '''\u001b[39;00m\n\u001b[0;32m--> 363\u001b[0m         \u001b[38;5;28mself\u001b[39m\u001b[38;5;241m.\u001b[39m__conn \u001b[38;5;241m=\u001b[39m \u001b[43mrpyc\u001b[49m\u001b[38;5;241;43m.\u001b[39;49m\u001b[43mclassic\u001b[49m\u001b[38;5;241;43m.\u001b[39;49m\u001b[43mconnect\u001b[49m\u001b[43m(\u001b[49m\u001b[43mhost\u001b[49m\u001b[43m,\u001b[49m\u001b[43mport\u001b[49m\u001b[43m)\u001b[49m\n\u001b[1;32m    364\u001b[0m         \u001b[38;5;28mself\u001b[39m\u001b[38;5;241m.\u001b[39m__conn\u001b[38;5;241m.\u001b[39m_config[\u001b[38;5;124m'\u001b[39m\u001b[38;5;124msync_request_timeout\u001b[39m\u001b[38;5;124m'\u001b[39m] \u001b[38;5;241m=\u001b[39m \u001b[38;5;241m300\u001b[39m \u001b[38;5;66;03m#5 min\u001b[39;00m\n\u001b[1;32m    365\u001b[0m         \u001b[38;5;28mself\u001b[39m\u001b[38;5;241m.\u001b[39m__conn\u001b[38;5;241m.\u001b[39mexecute(\u001b[38;5;124m'\u001b[39m\u001b[38;5;124mimport MetaTrader5 as mt5\u001b[39m\u001b[38;5;124m'\u001b[39m)\n",
      "File \u001b[0;32m/usr/local/lib/python3.10/site-packages/rpyc/utils/classic.py:76\u001b[0m, in \u001b[0;36mconnect\u001b[0;34m(host, port, ipv6, keepalive)\u001b[0m\n\u001b[1;32m     66\u001b[0m \u001b[38;5;28;01mdef\u001b[39;00m\u001b[38;5;250m \u001b[39m\u001b[38;5;21mconnect\u001b[39m(host, port\u001b[38;5;241m=\u001b[39mDEFAULT_SERVER_PORT, ipv6\u001b[38;5;241m=\u001b[39m\u001b[38;5;28;01mFalse\u001b[39;00m, keepalive\u001b[38;5;241m=\u001b[39m\u001b[38;5;28;01mFalse\u001b[39;00m):\n\u001b[1;32m     67\u001b[0m \u001b[38;5;250m    \u001b[39m\u001b[38;5;124;03m\"\"\"\u001b[39;00m\n\u001b[1;32m     68\u001b[0m \u001b[38;5;124;03m    Creates a socket connection to the given host and port.\u001b[39;00m\n\u001b[1;32m     69\u001b[0m \n\u001b[0;32m   (...)\u001b[0m\n\u001b[1;32m     74\u001b[0m \u001b[38;5;124;03m    :returns: an RPyC connection exposing ``SlaveService``\u001b[39;00m\n\u001b[1;32m     75\u001b[0m \u001b[38;5;124;03m    \"\"\"\u001b[39;00m\n\u001b[0;32m---> 76\u001b[0m     \u001b[38;5;28;01mreturn\u001b[39;00m \u001b[43mfactory\u001b[49m\u001b[38;5;241;43m.\u001b[39;49m\u001b[43mconnect\u001b[49m\u001b[43m(\u001b[49m\u001b[43mhost\u001b[49m\u001b[43m,\u001b[49m\u001b[43m \u001b[49m\u001b[43mport\u001b[49m\u001b[43m,\u001b[49m\u001b[43m \u001b[49m\u001b[43mSlaveService\u001b[49m\u001b[43m,\u001b[49m\u001b[43m \u001b[49m\u001b[43mipv6\u001b[49m\u001b[38;5;241;43m=\u001b[39;49m\u001b[43mipv6\u001b[49m\u001b[43m,\u001b[49m\u001b[43m \u001b[49m\u001b[43mkeepalive\u001b[49m\u001b[38;5;241;43m=\u001b[39;49m\u001b[43mkeepalive\u001b[49m\u001b[43m)\u001b[49m\n",
      "File \u001b[0;32m/usr/local/lib/python3.10/site-packages/rpyc/utils/factory.py:102\u001b[0m, in \u001b[0;36mconnect\u001b[0;34m(host, port, service, config, ipv6, keepalive)\u001b[0m\n\u001b[1;32m     89\u001b[0m \u001b[38;5;28;01mdef\u001b[39;00m\u001b[38;5;250m \u001b[39m\u001b[38;5;21mconnect\u001b[39m(host, port, service\u001b[38;5;241m=\u001b[39mVoidService, config\u001b[38;5;241m=\u001b[39m{}, ipv6\u001b[38;5;241m=\u001b[39m\u001b[38;5;28;01mFalse\u001b[39;00m, keepalive\u001b[38;5;241m=\u001b[39m\u001b[38;5;28;01mFalse\u001b[39;00m):\n\u001b[1;32m     90\u001b[0m \u001b[38;5;250m    \u001b[39m\u001b[38;5;124;03m\"\"\"\u001b[39;00m\n\u001b[1;32m     91\u001b[0m \u001b[38;5;124;03m    creates a socket-connection to the given host and port\u001b[39;00m\n\u001b[1;32m     92\u001b[0m \n\u001b[0;32m   (...)\u001b[0m\n\u001b[1;32m    100\u001b[0m \u001b[38;5;124;03m    :returns: an RPyC connection\u001b[39;00m\n\u001b[1;32m    101\u001b[0m \u001b[38;5;124;03m    \"\"\"\u001b[39;00m\n\u001b[0;32m--> 102\u001b[0m     s \u001b[38;5;241m=\u001b[39m \u001b[43mSocketStream\u001b[49m\u001b[38;5;241;43m.\u001b[39;49m\u001b[43mconnect\u001b[49m\u001b[43m(\u001b[49m\u001b[43mhost\u001b[49m\u001b[43m,\u001b[49m\u001b[43m \u001b[49m\u001b[43mport\u001b[49m\u001b[43m,\u001b[49m\u001b[43m \u001b[49m\u001b[43mipv6\u001b[49m\u001b[38;5;241;43m=\u001b[39;49m\u001b[43mipv6\u001b[49m\u001b[43m,\u001b[49m\u001b[43m \u001b[49m\u001b[43mkeepalive\u001b[49m\u001b[38;5;241;43m=\u001b[39;49m\u001b[43mkeepalive\u001b[49m\u001b[43m)\u001b[49m\n\u001b[1;32m    103\u001b[0m     \u001b[38;5;28;01mreturn\u001b[39;00m connect_stream(s, service, config)\n",
      "File \u001b[0;32m/usr/local/lib/python3.10/site-packages/rpyc/core/stream.py:174\u001b[0m, in \u001b[0;36mSocketStream.connect\u001b[0;34m(cls, host, port, **kwargs)\u001b[0m\n\u001b[1;32m    172\u001b[0m \u001b[38;5;28;01mif\u001b[39;00m kwargs\u001b[38;5;241m.\u001b[39mpop(\u001b[38;5;124m\"\u001b[39m\u001b[38;5;124mipv6\u001b[39m\u001b[38;5;124m\"\u001b[39m, \u001b[38;5;28;01mFalse\u001b[39;00m):\n\u001b[1;32m    173\u001b[0m     kwargs[\u001b[38;5;124m\"\u001b[39m\u001b[38;5;124mfamily\u001b[39m\u001b[38;5;124m\"\u001b[39m] \u001b[38;5;241m=\u001b[39m socket\u001b[38;5;241m.\u001b[39mAF_INET6\n\u001b[0;32m--> 174\u001b[0m \u001b[38;5;28;01mreturn\u001b[39;00m \u001b[38;5;28mcls\u001b[39m(\u001b[38;5;28;43mcls\u001b[39;49m\u001b[38;5;241;43m.\u001b[39;49m\u001b[43m_connect\u001b[49m\u001b[43m(\u001b[49m\u001b[43mhost\u001b[49m\u001b[43m,\u001b[49m\u001b[43m \u001b[49m\u001b[43mport\u001b[49m\u001b[43m,\u001b[49m\u001b[43m \u001b[49m\u001b[38;5;241;43m*\u001b[39;49m\u001b[38;5;241;43m*\u001b[39;49m\u001b[43mkwargs\u001b[49m\u001b[43m)\u001b[49m)\n",
      "File \u001b[0;32m/usr/local/lib/python3.10/site-packages/rpyc/core/stream.py:126\u001b[0m, in \u001b[0;36mSocketStream._connect\u001b[0;34m(cls, host, port, family, socktype, proto, timeout, nodelay, keepalive, attempts)\u001b[0m\n\u001b[1;32m    121\u001b[0m \u001b[38;5;129m@classmethod\u001b[39m\n\u001b[1;32m    122\u001b[0m \u001b[38;5;28;01mdef\u001b[39;00m\u001b[38;5;250m \u001b[39m\u001b[38;5;21m_connect\u001b[39m(\u001b[38;5;28mcls\u001b[39m, host, port, family\u001b[38;5;241m=\u001b[39msocket\u001b[38;5;241m.\u001b[39mAF_INET, socktype\u001b[38;5;241m=\u001b[39msocket\u001b[38;5;241m.\u001b[39mSOCK_STREAM,\n\u001b[1;32m    123\u001b[0m              proto\u001b[38;5;241m=\u001b[39m\u001b[38;5;241m0\u001b[39m, timeout\u001b[38;5;241m=\u001b[39m\u001b[38;5;241m3\u001b[39m, nodelay\u001b[38;5;241m=\u001b[39m\u001b[38;5;28;01mFalse\u001b[39;00m, keepalive\u001b[38;5;241m=\u001b[39m\u001b[38;5;28;01mFalse\u001b[39;00m, attempts\u001b[38;5;241m=\u001b[39m\u001b[38;5;241m6\u001b[39m):\n\u001b[1;32m    124\u001b[0m     family, socktype, proto, _, sockaddr \u001b[38;5;241m=\u001b[39m socket\u001b[38;5;241m.\u001b[39mgetaddrinfo(host, port, family,\n\u001b[1;32m    125\u001b[0m                                                               socktype, proto)[\u001b[38;5;241m0\u001b[39m]\n\u001b[0;32m--> 126\u001b[0m     s \u001b[38;5;241m=\u001b[39m \u001b[43msocket_backoff_connect\u001b[49m\u001b[43m(\u001b[49m\u001b[43mfamily\u001b[49m\u001b[43m,\u001b[49m\u001b[43m \u001b[49m\u001b[43msocktype\u001b[49m\u001b[43m,\u001b[49m\u001b[43m \u001b[49m\u001b[43mproto\u001b[49m\u001b[43m,\u001b[49m\u001b[43m \u001b[49m\u001b[43msockaddr\u001b[49m\u001b[43m,\u001b[49m\u001b[43m \u001b[49m\u001b[43mtimeout\u001b[49m\u001b[43m,\u001b[49m\u001b[43m \u001b[49m\u001b[43mattempts\u001b[49m\u001b[43m)\u001b[49m\n\u001b[1;32m    127\u001b[0m     \u001b[38;5;28;01mtry\u001b[39;00m:\n\u001b[1;32m    128\u001b[0m         \u001b[38;5;28;01mif\u001b[39;00m nodelay:\n",
      "File \u001b[0;32m/usr/local/lib/python3.10/site-packages/rpyc/lib/__init__.py:150\u001b[0m, in \u001b[0;36msocket_backoff_connect\u001b[0;34m(family, socktype, proto, addr, timeout, attempts)\u001b[0m\n\u001b[1;32m    148\u001b[0m \u001b[38;5;28;01mtry\u001b[39;00m:\n\u001b[1;32m    149\u001b[0m     sock\u001b[38;5;241m.\u001b[39msettimeout(timeout)\n\u001b[0;32m--> 150\u001b[0m     \u001b[43msock\u001b[49m\u001b[38;5;241;43m.\u001b[39;49m\u001b[43mconnect\u001b[49m\u001b[43m(\u001b[49m\u001b[43maddr\u001b[49m\u001b[43m)\u001b[49m\n\u001b[1;32m    151\u001b[0m     connecting \u001b[38;5;241m=\u001b[39m \u001b[38;5;28;01mFalse\u001b[39;00m\n\u001b[1;32m    152\u001b[0m \u001b[38;5;28;01mexcept\u001b[39;00m socket\u001b[38;5;241m.\u001b[39mtimeout:\n",
      "\u001b[0;31mConnectionRefusedError\u001b[0m: [Errno 111] Connection refused"
     ]
    }
   ],
   "source": [
    "# import the package\n",
    "from mt5linux import MetaTrader5\n",
    "from datetime import datetime, timedelta, time\n",
    "#from IPython.display import display\n",
    "#from atj_algotrading.backtester import Backtester, get_ohlc_history\n",
    "# connecto to the server\n",
    "mt5 = MetaTrader5(\n",
    "     host = 'localhost' \n",
    "     ,port = 3000   \n",
    ") \n",
    "# use as you learned from: https://www.mql5.com/en/docs/integration/python_metatrader5/\n",
    "\n",
    "if not mt5.initialize(\"/root/.mt5/drive_c/Program Files/MetaTrader 5 EXNESS/terminal64.exe\",login=83040089,password='061217_Btz',server='Exness-MT5Trial12'):\n",
    "    print(\"initialize() failed, error code =\",mt5.last_error())\n",
    "    #qu\n",
    "\n",
    "print(mt5.version())"
   ]
  },
  {
   "cell_type": "code",
   "execution_count": 9,
   "metadata": {},
   "outputs": [
    {
     "data": {
      "text/plain": [
       "True"
      ]
     },
     "execution_count": 9,
     "metadata": {},
     "output_type": "execute_result"
    }
   ],
   "source": [
    "mt5.shutdown()"
   ]
  },
  {
   "cell_type": "code",
   "execution_count": 8,
   "metadata": {},
   "outputs": [],
   "source": [
    "import socket \n",
    "\n",
    "def test_port(address: str, dest_port: int) -> bool:\n",
    "    try:\n",
    "        with socket.socket(socket.AF_INET, socket.SOCK_STREAM) as sock:\n",
    "            if sock.connect_ex((address, dest_port)) == 0:\n",
    "                return True\n",
    "        return False\n",
    "    except (OSError, ValueError):\n",
    "        return False"
   ]
  },
  {
   "cell_type": "code",
   "execution_count": 11,
   "metadata": {},
   "outputs": [
    {
     "data": {
      "text/plain": [
       "True"
      ]
     },
     "execution_count": 11,
     "metadata": {},
     "output_type": "execute_result"
    }
   ],
   "source": [
    "test_port('172.17.0.2',8001)"
   ]
  }
 ],
 "metadata": {
  "kernelspec": {
   "display_name": "Python 3",
   "language": "python",
   "name": "python3"
  },
  "language_info": {
   "codemirror_mode": {
    "name": "ipython",
    "version": 3
   },
   "file_extension": ".py",
   "mimetype": "text/x-python",
   "name": "python",
   "nbconvert_exporter": "python",
   "pygments_lexer": "ipython3",
   "version": "3.10.16"
  }
 },
 "nbformat": 4,
 "nbformat_minor": 2
}
